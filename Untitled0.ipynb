{
  "nbformat": 4,
  "nbformat_minor": 0,
  "metadata": {
    "colab": {
      "provenance": [],
      "gpuType": "T4",
      "authorship_tag": "ABX9TyPCDBEwkgcR3cvuFEgPKBq9",
      "include_colab_link": true
    },
    "kernelspec": {
      "name": "python3",
      "display_name": "Python 3"
    },
    "language_info": {
      "name": "python"
    },
    "accelerator": "GPU"
  },
  "cells": [
    {
      "cell_type": "markdown",
      "metadata": {
        "id": "view-in-github",
        "colab_type": "text"
      },
      "source": [
        "<a href=\"https://colab.research.google.com/github/Rida0201/Connect_Four_game/blob/main/Untitled0.ipynb\" target=\"_parent\"><img src=\"https://colab.research.google.com/assets/colab-badge.svg\" alt=\"Open In Colab\"/></a>"
      ]
    },
    {
      "cell_type": "code",
      "execution_count": 2,
      "metadata": {
        "colab": {
          "base_uri": "https://localhost:8080/"
        },
        "id": "_ThQ-5S-X_AE",
        "outputId": "c37aeb06-bcff-4844-f437-135d5f8016c8"
      },
      "outputs": [
        {
          "output_type": "stream",
          "name": "stdout",
          "text": [
            "Requirement already satisfied: sumy in /usr/local/lib/python3.11/dist-packages (0.11.0)\n",
            "Requirement already satisfied: PyPDF2 in /usr/local/lib/python3.11/dist-packages (3.0.1)\n",
            "Requirement already satisfied: docopt<0.7,>=0.6.1 in /usr/local/lib/python3.11/dist-packages (from sumy) (0.6.2)\n",
            "Requirement already satisfied: breadability>=0.1.20 in /usr/local/lib/python3.11/dist-packages (from sumy) (0.1.20)\n",
            "Requirement already satisfied: requests>=2.7.0 in /usr/local/lib/python3.11/dist-packages (from sumy) (2.32.3)\n",
            "Requirement already satisfied: pycountry>=18.2.23 in /usr/local/lib/python3.11/dist-packages (from sumy) (24.6.1)\n",
            "Requirement already satisfied: nltk>=3.0.2 in /usr/local/lib/python3.11/dist-packages (from sumy) (3.9.1)\n",
            "Requirement already satisfied: chardet in /usr/local/lib/python3.11/dist-packages (from breadability>=0.1.20->sumy) (5.2.0)\n",
            "Requirement already satisfied: lxml>=2.0 in /usr/local/lib/python3.11/dist-packages (from breadability>=0.1.20->sumy) (5.4.0)\n",
            "Requirement already satisfied: click in /usr/local/lib/python3.11/dist-packages (from nltk>=3.0.2->sumy) (8.2.1)\n",
            "Requirement already satisfied: joblib in /usr/local/lib/python3.11/dist-packages (from nltk>=3.0.2->sumy) (1.5.1)\n",
            "Requirement already satisfied: regex>=2021.8.3 in /usr/local/lib/python3.11/dist-packages (from nltk>=3.0.2->sumy) (2024.11.6)\n",
            "Requirement already satisfied: tqdm in /usr/local/lib/python3.11/dist-packages (from nltk>=3.0.2->sumy) (4.67.1)\n",
            "Requirement already satisfied: charset-normalizer<4,>=2 in /usr/local/lib/python3.11/dist-packages (from requests>=2.7.0->sumy) (3.4.2)\n",
            "Requirement already satisfied: idna<4,>=2.5 in /usr/local/lib/python3.11/dist-packages (from requests>=2.7.0->sumy) (3.10)\n",
            "Requirement already satisfied: urllib3<3,>=1.21.1 in /usr/local/lib/python3.11/dist-packages (from requests>=2.7.0->sumy) (2.5.0)\n",
            "Requirement already satisfied: certifi>=2017.4.17 in /usr/local/lib/python3.11/dist-packages (from requests>=2.7.0->sumy) (2025.8.3)\n"
          ]
        },
        {
          "output_type": "stream",
          "name": "stderr",
          "text": [
            "[nltk_data] Downloading package punkt_tab to /root/nltk_data...\n",
            "[nltk_data]   Unzipping tokenizers/punkt_tab.zip.\n"
          ]
        },
        {
          "output_type": "stream",
          "name": "stdout",
          "text": [
            "Choose input method:\n",
            "1. Type/Paste text manually\n",
            "2. Upload a text or PDF file\n",
            "Enter choice (1/2): 1\n",
            "Paste your text here:\n",
            "The increase in global temperatures has led to more frequent and severe weather events, posing a significant threat to ecosystems and human societies. One of the major impacts of climate change is the rise in sea levels, which results from the melting of polar ice caps and glaciers. Coastal areas are particularly vulnerable, as they face higher risks of flooding, storm surges, and erosion. Additionally, the warming atmosphere can hold more moisture, leading to intense and unpredictable precipitation patterns. This variability can cause both severe droughts and devastating floods, affecting agricultural productivity and water resources.\n",
            "\n",
            "Original Text Length: 95 words\n",
            "\n",
            "--- Summarized Text ---\n",
            "\n",
            "The increase in global temperatures has led to more frequent and severe weather events, posing a significant threat to ecosystems and human societies. Coastal areas are particularly vulnerable, as they face higher risks of flooding, storm surges, and erosion. Additionally, the warming atmosphere can hold more moisture, leading to intense and unpredictable precipitation patterns.\n"
          ]
        }
      ],
      "source": [
        "!pip install sumy PyPDF2\n",
        "\n",
        "from sumy.parsers.plaintext import PlaintextParser\n",
        "from sumy.nlp.tokenizers import Tokenizer\n",
        "from sumy.summarizers.lsa import LsaSummarizer\n",
        "import PyPDF2\n",
        "from google.colab import files\n",
        "import nltk\n",
        "nltk.download('punkt_tab')\n",
        "\n",
        "def summarize_text(text, sentence_count=3):\n",
        "    parser = PlaintextParser.from_string(text, Tokenizer(\"english\"))\n",
        "    summarizer = LsaSummarizer()\n",
        "    summary = summarizer(parser.document, sentence_count)\n",
        "    return \" \".join(str(sentence) for sentence in summary)\n",
        "\n",
        "def read_uploaded_file():\n",
        "    uploaded = files.upload()\n",
        "    file_name = list(uploaded.keys())[0]\n",
        "    text = \"\"\n",
        "    if file_name.endswith(\".txt\"):\n",
        "        with open(file_name, \"r\", encoding=\"utf-8\") as f:\n",
        "            text = f.read()\n",
        "    elif file_name.endswith(\".pdf\"):\n",
        "        with open(file_name, \"rb\") as f:\n",
        "            reader = PyPDF2.PdfReader(f)\n",
        "            for page in reader.pages:\n",
        "                text += page.extract_text()\n",
        "    else:\n",
        "        print(\"Unsupported file format. Please upload .txt or .pdf file.\")\n",
        "    return text\n",
        "\n",
        "\n",
        "print(\"Choose input method:\")\n",
        "print(\"1. Type/Paste text manually\")\n",
        "print(\"2. Upload a text or PDF file\")\n",
        "choice = input(\"Enter choice (1/2): \")\n",
        "\n",
        "if choice == \"1\":\n",
        "    input_text = input(\"Paste your text here:\\n\")\n",
        "elif choice == \"2\":\n",
        "    print(\"Please upload your file...\")\n",
        "    input_text = read_uploaded_file()\n",
        "else:\n",
        "    print(\"Invalid choice.\")\n",
        "    input_text = \"\"\n",
        "\n",
        "if input_text.strip():\n",
        "    print(\"\\nOriginal Text Length:\", len(input_text.split()), \"words\")\n",
        "    print(\"\\n--- Summarized Text ---\\n\")\n",
        "    print(summarize_text(input_text, sentence_count=3))\n"
      ]
    }
  ]
}